{
 "cells": [
  {
   "cell_type": "markdown",
   "metadata": {},
   "source": [
    "# Lab 8: Define and Solve an ML Problem of Your Choosing"
   ]
  },
  {
   "cell_type": "code",
   "execution_count": 1,
   "metadata": {},
   "outputs": [],
   "source": [
    "import pandas as pd\n",
    "import numpy as np\n",
    "import os \n",
    "import matplotlib.pyplot as plt\n",
    "import seaborn as sns"
   ]
  },
  {
   "cell_type": "markdown",
   "metadata": {},
   "source": [
    "In this lab assignment, you will follow the machine learning life cycle and implement a model to solve a machine learning problem of your choosing. You will select a data set and choose a predictive problem that the data set supports.  You will then inspect the data with your problem in mind and begin to formulate a  project plan. You will then implement the machine learning project plan. \n",
    "\n",
    "You will complete the following tasks:\n",
    "\n",
    "1. Build Your DataFrame\n",
    "2. Define Your ML Problem\n",
    "3. Perform exploratory data analysis to understand your data.\n",
    "4. Define Your Project Plan\n",
    "5. Implement Your Project Plan:\n",
    "    * Prepare your data for your model.\n",
    "    * Fit your model to the training data and evaluate your model.\n",
    "    * Improve your model's performance."
   ]
  },
  {
   "cell_type": "markdown",
   "metadata": {},
   "source": [
    "## Part 1: Build Your DataFrame\n",
    "\n",
    "You will have the option to choose one of four data sets that you have worked with in this program:\n",
    "\n",
    "* The \"census\" data set that contains Census information from 1994: `censusData.csv`\n",
    "* Airbnb NYC \"listings\" data set: `airbnbListingsData.csv`\n",
    "* World Happiness Report (WHR) data set: `WHR2018Chapter2OnlineData.csv`\n",
    "* Book Review data set: `bookReviewsData.csv`\n",
    "\n",
    "Note that these are variations of the data sets that you have worked with in this program. For example, some do not include some of the preprocessing necessary for specific models. \n",
    "\n",
    "#### Load a Data Set and Save it as a Pandas DataFrame\n",
    "\n",
    "The code cell below contains filenames (path + filename) for each of the four data sets available to you.\n",
    "\n",
    "<b>Task:</b> In the code cell below, use the same method you have been using to load the data using `pd.read_csv()` and save it to DataFrame `df`. \n",
    "\n",
    "You can load each file as a new DataFrame to inspect the data before choosing your data set."
   ]
  },
  {
   "cell_type": "code",
   "execution_count": 2,
   "metadata": {},
   "outputs": [
    {
     "data": {
      "text/html": [
       "<div>\n",
       "<style scoped>\n",
       "    .dataframe tbody tr th:only-of-type {\n",
       "        vertical-align: middle;\n",
       "    }\n",
       "\n",
       "    .dataframe tbody tr th {\n",
       "        vertical-align: top;\n",
       "    }\n",
       "\n",
       "    .dataframe thead th {\n",
       "        text-align: right;\n",
       "    }\n",
       "</style>\n",
       "<table border=\"1\" class=\"dataframe\">\n",
       "  <thead>\n",
       "    <tr style=\"text-align: right;\">\n",
       "      <th></th>\n",
       "      <th>Review</th>\n",
       "      <th>Positive Review</th>\n",
       "    </tr>\n",
       "  </thead>\n",
       "  <tbody>\n",
       "    <tr>\n",
       "      <th>0</th>\n",
       "      <td>This was perhaps the best of Johannes Steinhof...</td>\n",
       "      <td>True</td>\n",
       "    </tr>\n",
       "    <tr>\n",
       "      <th>1</th>\n",
       "      <td>This very fascinating book is a story written ...</td>\n",
       "      <td>True</td>\n",
       "    </tr>\n",
       "    <tr>\n",
       "      <th>2</th>\n",
       "      <td>The four tales in this collection are beautifu...</td>\n",
       "      <td>True</td>\n",
       "    </tr>\n",
       "    <tr>\n",
       "      <th>3</th>\n",
       "      <td>The book contained more profanity than I expec...</td>\n",
       "      <td>False</td>\n",
       "    </tr>\n",
       "    <tr>\n",
       "      <th>4</th>\n",
       "      <td>We have now entered a second time of deep conc...</td>\n",
       "      <td>True</td>\n",
       "    </tr>\n",
       "  </tbody>\n",
       "</table>\n",
       "</div>"
      ],
      "text/plain": [
       "                                              Review  Positive Review\n",
       "0  This was perhaps the best of Johannes Steinhof...             True\n",
       "1  This very fascinating book is a story written ...             True\n",
       "2  The four tales in this collection are beautifu...             True\n",
       "3  The book contained more profanity than I expec...            False\n",
       "4  We have now entered a second time of deep conc...             True"
      ]
     },
     "execution_count": 2,
     "metadata": {},
     "output_type": "execute_result"
    }
   ],
   "source": [
    "# File names of the four data sets\n",
    "adultDataSet_filename = os.path.join(os.getcwd(), \"data\", \"censusData.csv\")\n",
    "airbnbDataSet_filename = os.path.join(os.getcwd(), \"data\", \"airbnbListingsData.csv\")\n",
    "WHRDataSet_filename = os.path.join(os.getcwd(), \"data\", \"WHR2018Chapter2OnlineData.csv\")\n",
    "bookReviewDataSet_filename = os.path.join(os.getcwd(), \"data\", \"bookReviewsData.csv\")\n",
    "\n",
    "\n",
    "df = pd.read_csv(bookReviewDataSet_filename)\n",
    "\n",
    "df.head()"
   ]
  },
  {
   "cell_type": "markdown",
   "metadata": {},
   "source": [
    "## Part 2: Define Your ML Problem\n",
    "\n",
    "Next you will formulate your ML Problem. In the markdown cell below, answer the following questions:\n",
    "\n",
    "1. List the data set you have chosen.\n",
    "2. What will you be predicting? What is the label?\n",
    "3. Is this a supervised or unsupervised learning problem? Is this a clustering, classification or regression problem? Is it a binary classificaiton or multi-class classifiction problem?\n",
    "4. What are your features? (note: this list may change after your explore your data)\n",
    "5. Explain why this is an important problem. In other words, how would a company create value with a model that predicts this label?"
   ]
  },
  {
   "cell_type": "markdown",
   "metadata": {},
   "source": [
    "The data set I have chosen is the book review data set. I will be predicting if the review is positive or negative. The label is the positive review. This is a binary classification problem. The feature for this data set is the review. This is a important problem because this model will determine the tone of the review and whether the review is positive or negative. The way a company can create value with a model that predicts this label is it can determine the whether customers liked or disliked the book. For instance, if a book a good reviews, it can recommend the book to more customers. Additionally, if a customer leaves a good review, it can recommend a another book by the same auther or something similar. "
   ]
  },
  {
   "cell_type": "markdown",
   "metadata": {},
   "source": [
    "## Part 3: Understand Your Data\n",
    "\n",
    "The next step is to perform exploratory data analysis. Inspect and analyze your data set with your machine learning problem in mind. Consider the following as you inspect your data:\n",
    "\n",
    "1. What data preparation techniques would you like to use? These data preparation techniques may include:\n",
    "\n",
    "    * addressing missingness, such as replacing missing values with means\n",
    "    * finding and replacing outliers\n",
    "    * renaming features and labels\n",
    "    * finding and replacing outliers\n",
    "    * performing feature engineering techniques such as one-hot encoding on categorical features\n",
    "    * selecting appropriate features and removing irrelevant features\n",
    "    * performing specific data cleaning and preprocessing techniques for an NLP problem\n",
    "    * addressing class imbalance in your data sample to promote fair AI\n",
    "    \n",
    "\n",
    "2. What machine learning model (or models) you would like to use that is suitable for your predictive problem and data?\n",
    "    * Are there other data preparation techniques that you will need to apply to build a balanced modeling data set for your problem and model? For example, will you need to scale your data?\n",
    " \n",
    " \n",
    "3. How will you evaluate and improve the model's performance?\n",
    "    * Are there specific evaluation metrics and methods that are appropriate for your model?\n",
    "    \n",
    "\n",
    "Think of the different techniques you have used to inspect and analyze your data in this course. These include using Pandas to apply data filters, using the Pandas `describe()` method to get insight into key statistics for each column, using the Pandas `dtypes` property to inspect the data type of each column, and using Matplotlib and Seaborn to detect outliers and visualize relationships between features and labels. If you are working on a classification problem, use techniques you have learned to determine if there is class imbalance.\n",
    "\n",
    "<b>Task</b>: Use the techniques you have learned in this course to inspect and analyze your data. You can import additional packages that you have used in this course that you will need to perform this task.\n",
    "\n",
    "<b>Note</b>: You can add code cells if needed by going to the <b>Insert</b> menu and clicking on <b>Insert Cell Below</b> in the drop-drown menu."
   ]
  },
  {
   "cell_type": "code",
   "execution_count": 3,
   "metadata": {},
   "outputs": [],
   "source": [
    "# YOUR CODE HERE"
   ]
  },
  {
   "cell_type": "code",
   "execution_count": 4,
   "metadata": {},
   "outputs": [
    {
     "data": {
      "text/html": [
       "<div>\n",
       "<style scoped>\n",
       "    .dataframe tbody tr th:only-of-type {\n",
       "        vertical-align: middle;\n",
       "    }\n",
       "\n",
       "    .dataframe tbody tr th {\n",
       "        vertical-align: top;\n",
       "    }\n",
       "\n",
       "    .dataframe thead th {\n",
       "        text-align: right;\n",
       "    }\n",
       "</style>\n",
       "<table border=\"1\" class=\"dataframe\">\n",
       "  <thead>\n",
       "    <tr style=\"text-align: right;\">\n",
       "      <th></th>\n",
       "      <th>Review</th>\n",
       "      <th>Positive Review</th>\n",
       "    </tr>\n",
       "  </thead>\n",
       "  <tbody>\n",
       "    <tr>\n",
       "      <th>count</th>\n",
       "      <td>1973</td>\n",
       "      <td>1973</td>\n",
       "    </tr>\n",
       "    <tr>\n",
       "      <th>unique</th>\n",
       "      <td>1865</td>\n",
       "      <td>2</td>\n",
       "    </tr>\n",
       "    <tr>\n",
       "      <th>top</th>\n",
       "      <td>How can a best-selling author like Simon Winch...</td>\n",
       "      <td>False</td>\n",
       "    </tr>\n",
       "    <tr>\n",
       "      <th>freq</th>\n",
       "      <td>3</td>\n",
       "      <td>993</td>\n",
       "    </tr>\n",
       "  </tbody>\n",
       "</table>\n",
       "</div>"
      ],
      "text/plain": [
       "                                                   Review Positive Review\n",
       "count                                                1973            1973\n",
       "unique                                               1865               2\n",
       "top     How can a best-selling author like Simon Winch...           False\n",
       "freq                                                    3             993"
      ]
     },
     "execution_count": 4,
     "metadata": {},
     "output_type": "execute_result"
    }
   ],
   "source": [
    "df.describe()"
   ]
  },
  {
   "cell_type": "code",
   "execution_count": 5,
   "metadata": {},
   "outputs": [
    {
     "data": {
      "text/plain": [
       "Review             object\n",
       "Positive Review      bool\n",
       "dtype: object"
      ]
     },
     "execution_count": 5,
     "metadata": {},
     "output_type": "execute_result"
    }
   ],
   "source": [
    "df.dtypes"
   ]
  },
  {
   "cell_type": "markdown",
   "metadata": {},
   "source": [
    "## Part 4: Define Your Project Plan\n",
    "\n",
    "Now that you understand your data, in the markdown cell below, define your plan to implement the remaining phases of the machine learning life cycle (data preparation, modeling, evaluation) to solve your ML problem. Answer the following questions:\n",
    "\n",
    "* Do you have a new feature list? If so, what are the features that you chose to keep and remove after inspecting the data? \n",
    "* Explain different data preparation techniques that you will use to prepare your data for modeling.\n",
    "* What is your model (or models)?\n",
    "* Describe your plan to train your model, analyze its performance and then improve the model. That is, describe your model building, validation and selection plan to produce a model that generalizes well to new data.\n",
    "\n"
   ]
  },
  {
   "cell_type": "markdown",
   "metadata": {},
   "source": [
    "This data set does not require a feature list since there is only one feature. The data preparation needed to model this data includes splitting it and performing text preprocessing. We first need to define our features and labels, then split them into training and testing sets. Next, we would use a TfidfVectorizer object convert raw text into numerical features. \n",
    "\n",
    "The models I would be using is Neural Networks. To train my model, I would first create the model object using Keras Sequential. Then, I would add the input layer, hidden layers, and output layer to the model. For the input layer, I would set the shape to the vocabulary size. For the hidden layers, I would use the units 64, 32, and 16, with the activation set to ReLU. For the output layer, I would set the unit to 1 and the activation to sigmoid. To help the data generalize well to new data, I would add a dropout layer. \n",
    "\n",
    "Next, I would use Stochastic Gradient Descent Optimizer with a learning rate of 0.1 and Binary Cross Entropy Loss Function. I would then compile the model with these optimizer and loss functions. After that, I would fit the model on the training data using the fit() method and use the function ProgBarLoggerNEpochs to output the information. Finally, I would visualize the model's performance by graphing the training loss and accuracy and the validation loss and accuracy. "
   ]
  },
  {
   "cell_type": "markdown",
   "metadata": {},
   "source": [
    "## Part 5: Implement Your Project Plan\n",
    "\n",
    "<b>Task:</b> In the code cell below, import additional packages that you have used in this course that you will need to implement your project plan."
   ]
  },
  {
   "cell_type": "code",
   "execution_count": 6,
   "metadata": {},
   "outputs": [],
   "source": [
    "from sklearn.model_selection import train_test_split\n",
    "from sklearn.feature_extraction.text import TfidfVectorizer\n",
    "from tensorflow.keras import regularizers\n",
    "import tensorflow.keras as keras\n",
    "import time"
   ]
  },
  {
   "cell_type": "markdown",
   "metadata": {},
   "source": [
    "<b>Task:</b> Use the rest of this notebook to carry out your project plan. \n",
    "\n",
    "You will:\n",
    "\n",
    "1. Prepare your data for your model.\n",
    "2. Fit your model to the training data and evaluate your model.\n",
    "3. Improve your model's performance by performing model selection and/or feature selection techniques to find best model for your problem.\n",
    "\n",
    "Add code cells below and populate the notebook with commentary, code, analyses, results, and figures as you see fit. "
   ]
  },
  {
   "cell_type": "code",
   "execution_count": 7,
   "metadata": {},
   "outputs": [
    {
     "data": {
      "text/html": [
       "<div>\n",
       "<style scoped>\n",
       "    .dataframe tbody tr th:only-of-type {\n",
       "        vertical-align: middle;\n",
       "    }\n",
       "\n",
       "    .dataframe tbody tr th {\n",
       "        vertical-align: top;\n",
       "    }\n",
       "\n",
       "    .dataframe thead th {\n",
       "        text-align: right;\n",
       "    }\n",
       "</style>\n",
       "<table border=\"1\" class=\"dataframe\">\n",
       "  <thead>\n",
       "    <tr style=\"text-align: right;\">\n",
       "      <th></th>\n",
       "      <th>Review</th>\n",
       "      <th>Positive Review</th>\n",
       "    </tr>\n",
       "  </thead>\n",
       "  <tbody>\n",
       "    <tr>\n",
       "      <th>0</th>\n",
       "      <td>This was perhaps the best of Johannes Steinhof...</td>\n",
       "      <td>True</td>\n",
       "    </tr>\n",
       "    <tr>\n",
       "      <th>1</th>\n",
       "      <td>This very fascinating book is a story written ...</td>\n",
       "      <td>True</td>\n",
       "    </tr>\n",
       "    <tr>\n",
       "      <th>2</th>\n",
       "      <td>The four tales in this collection are beautifu...</td>\n",
       "      <td>True</td>\n",
       "    </tr>\n",
       "    <tr>\n",
       "      <th>3</th>\n",
       "      <td>The book contained more profanity than I expec...</td>\n",
       "      <td>False</td>\n",
       "    </tr>\n",
       "    <tr>\n",
       "      <th>4</th>\n",
       "      <td>We have now entered a second time of deep conc...</td>\n",
       "      <td>True</td>\n",
       "    </tr>\n",
       "    <tr>\n",
       "      <th>5</th>\n",
       "      <td>I don't know why it won the National Book Awar...</td>\n",
       "      <td>False</td>\n",
       "    </tr>\n",
       "    <tr>\n",
       "      <th>6</th>\n",
       "      <td>The daughter of a prominent Boston doctor is d...</td>\n",
       "      <td>False</td>\n",
       "    </tr>\n",
       "    <tr>\n",
       "      <th>7</th>\n",
       "      <td>I was very disapointed in the book.Basicly the...</td>\n",
       "      <td>False</td>\n",
       "    </tr>\n",
       "    <tr>\n",
       "      <th>8</th>\n",
       "      <td>I think in retrospect I wasted my time on this...</td>\n",
       "      <td>False</td>\n",
       "    </tr>\n",
       "    <tr>\n",
       "      <th>9</th>\n",
       "      <td>I have a hard time understanding what it is th...</td>\n",
       "      <td>False</td>\n",
       "    </tr>\n",
       "  </tbody>\n",
       "</table>\n",
       "</div>"
      ],
      "text/plain": [
       "                                              Review  Positive Review\n",
       "0  This was perhaps the best of Johannes Steinhof...             True\n",
       "1  This very fascinating book is a story written ...             True\n",
       "2  The four tales in this collection are beautifu...             True\n",
       "3  The book contained more profanity than I expec...            False\n",
       "4  We have now entered a second time of deep conc...             True\n",
       "5  I don't know why it won the National Book Awar...            False\n",
       "6  The daughter of a prominent Boston doctor is d...            False\n",
       "7  I was very disapointed in the book.Basicly the...            False\n",
       "8  I think in retrospect I wasted my time on this...            False\n",
       "9  I have a hard time understanding what it is th...            False"
      ]
     },
     "execution_count": 7,
     "metadata": {},
     "output_type": "execute_result"
    }
   ],
   "source": [
    "df.head(10)"
   ]
  },
  {
   "cell_type": "code",
   "execution_count": 8,
   "metadata": {},
   "outputs": [],
   "source": [
    "# Create labeled examples\n",
    "# Assigned label to y and features to X\n",
    "y = df['Positive Review']\n",
    "X = df['Review']"
   ]
  },
  {
   "cell_type": "code",
   "execution_count": 9,
   "metadata": {},
   "outputs": [],
   "source": [
    "# Create Training and Test Data Sets\n",
    "X_train, X_test, y_train, y_test = train_test_split(X, y, test_size=0.25)"
   ]
  },
  {
   "cell_type": "code",
   "execution_count": 10,
   "metadata": {},
   "outputs": [],
   "source": [
    "# 1. Create a TfidfVectorizer object \n",
    "tfidf_vectorizer = TfidfVectorizer()\n",
    "\n",
    "# 2. Fitted the vectorizer to X_train\n",
    "tfidf_vectorizer.fit(X_train)\n",
    "\n",
    "# 3. Transform the training data using the fitted vectorizer\n",
    "X_train_tfidf = tfidf_vectorizer.transform(X_train)\n",
    "\n",
    "# 4. Transform the test data using the fitted vectorizer\n",
    "X_test_tfidf = tfidf_vectorizer.transform(X_test)"
   ]
  },
  {
   "cell_type": "code",
   "execution_count": 11,
   "metadata": {},
   "outputs": [
    {
     "name": "stdout",
     "output_type": "stream",
     "text": [
      "18686\n"
     ]
    }
   ],
   "source": [
    "# Set vocabulary size\n",
    "vocabulary_size = len(tfidf_vectorizer.vocabulary_)\n",
    "\n",
    "print(vocabulary_size)"
   ]
  },
  {
   "cell_type": "code",
   "execution_count": 12,
   "metadata": {},
   "outputs": [
    {
     "name": "stdout",
     "output_type": "stream",
     "text": [
      "Model: \"sequential\"\n",
      "_________________________________________________________________\n",
      "Layer (type)                 Output Shape              Param #   \n",
      "=================================================================\n",
      "hl_2 (Dense)                 (None, 32)                597984    \n",
      "_________________________________________________________________\n",
      "batch_normalization (BatchNo (None, 32)                128       \n",
      "_________________________________________________________________\n",
      "dropout (Dropout)            (None, 32)                0         \n",
      "_________________________________________________________________\n",
      "hl_3 (Dense)                 (None, 16)                528       \n",
      "_________________________________________________________________\n",
      "batch_normalization_1 (Batch (None, 16)                64        \n",
      "_________________________________________________________________\n",
      "dropout_1 (Dropout)          (None, 16)                0         \n",
      "_________________________________________________________________\n",
      "output (Dense)               (None, 1)                 17        \n",
      "=================================================================\n",
      "Total params: 598,721\n",
      "Trainable params: 598,625\n",
      "Non-trainable params: 96\n",
      "_________________________________________________________________\n"
     ]
    }
   ],
   "source": [
    "# 1. Create model object\n",
    "nn_model = keras.Sequential()\n",
    "\n",
    "# 2. Input Layer\n",
    "input_layer = keras.layers.InputLayer(input_shape = vocabulary_size)\n",
    "nn_model.add(input_layer)\n",
    "\n",
    "# 3. First Hidden Layer\n",
    "#hidden_layer_1 = keras.layers.Dense(units = 64, activation = \"relu\", kernel_regularizer=regularizers.l2(0.001), name = \"hl_1\")\n",
    "#nn_model.add(hidden_layer_1)\n",
    "#nn_model.add(keras.layers.BatchNormalization())\n",
    "#nn_model.add(keras.layers.Dropout(.5))\n",
    "\n",
    "# Removed the first hidden layer to help reduce overfitting\n",
    "\n",
    "# 4. Second Hidden Layer\n",
    "# Added regularizers, BatchNormalizations, and dropout layers to help reduce overfitting\n",
    "hidden_layer_2 = keras.layers.Dense(units = 32, activation = \"gelu\", kernel_regularizer=regularizers.l2(0.0005), name = \"hl_2\")\n",
    "nn_model.add(hidden_layer_2)\n",
    "nn_model.add(keras.layers.BatchNormalization())\n",
    "nn_model.add(keras.layers.Dropout(.3))\n",
    "\n",
    "# 5. Third Hidden Layer\n",
    "# Added regularizers, BatchNormalizations, and dropout layers to help reduce overfitting\n",
    "hidden_layer_3 = keras.layers.Dense(units = 16, activation = \"gelu\", kernel_regularizer=regularizers.l2(0.0005), name = \"hl_3\")\n",
    "nn_model.add(hidden_layer_3)\n",
    "nn_model.add(keras.layers.BatchNormalization())\n",
    "nn_model.add(keras.layers.Dropout(.3))\n",
    "\n",
    "# 6. Output Layer\n",
    "output_layer = keras.layers.Dense(units = 1, activation = 'sigmoid', name = \"output\")\n",
    "nn_model.add(output_layer)\n",
    "\n",
    "# Print summary of neural network model structure\n",
    "nn_model.summary()"
   ]
  },
  {
   "cell_type": "code",
   "execution_count": 13,
   "metadata": {},
   "outputs": [],
   "source": [
    "# Stochastic Gradient Descent Optimizer\n",
    "sgd_optimizer = keras.optimizers.SGD(learning_rate = 0.1)"
   ]
  },
  {
   "cell_type": "code",
   "execution_count": 14,
   "metadata": {},
   "outputs": [],
   "source": [
    "# Binary Cross Entropy Loss Function\n",
    "loss_fn = keras.losses.BinaryCrossentropy(from_logits = False)"
   ]
  },
  {
   "cell_type": "code",
   "execution_count": 15,
   "metadata": {},
   "outputs": [],
   "source": [
    "# Compile the model\n",
    "nn_model.compile(optimizer = sgd_optimizer, loss = loss_fn, metrics = [\"accuracy\"])"
   ]
  },
  {
   "cell_type": "code",
   "execution_count": 16,
   "metadata": {},
   "outputs": [],
   "source": [
    "# Create a function to output information\n",
    "class ProgBarLoggerNEpochs(keras.callbacks.Callback):\n",
    "    \n",
    "    def __init__(self, num_epochs: int, every_n: int = 50):\n",
    "        self.num_epochs = num_epochs\n",
    "        self.every_n = every_n\n",
    "    \n",
    "    def on_epoch_end(self, epoch, logs=None):\n",
    "        if (epoch + 1) % self.every_n == 0:\n",
    "            s = 'Epoch [{}/ {}]'.format(epoch + 1, self.num_epochs)\n",
    "            logs_s = ['{}: {:.4f}'.format(k.capitalize(), v)\n",
    "                      for k, v in logs.items()]\n",
    "            s_list = [s] + logs_s\n",
    "            print(', '.join(s_list))\n"
   ]
  },
  {
   "cell_type": "code",
   "execution_count": 17,
   "metadata": {},
   "outputs": [
    {
     "name": "stdout",
     "output_type": "stream",
     "text": [
      "Epoch 1/50\n",
      "37/37 [==============================] - 2s 16ms/step - loss: 0.6903 - accuracy: 0.6915 - val_loss: 0.7389 - val_accuracy: 0.4730\n",
      "Epoch 2/50\n",
      "37/37 [==============================] - 0s 7ms/step - loss: 0.3002 - accuracy: 0.9307 - val_loss: 0.7210 - val_accuracy: 0.7736\n",
      "Epoch 3/50\n",
      "37/37 [==============================] - 0s 7ms/step - loss: 0.1630 - accuracy: 0.9713 - val_loss: 0.7013 - val_accuracy: 0.7872\n",
      "Epoch 4/50\n",
      "37/37 [==============================] - 0s 7ms/step - loss: 0.1149 - accuracy: 0.9907 - val_loss: 0.6777 - val_accuracy: 0.7905\n",
      "Epoch 5/50\n",
      "37/37 [==============================] - 0s 7ms/step - loss: 0.1061 - accuracy: 0.9873 - val_loss: 0.6576 - val_accuracy: 0.7500\n",
      "Epoch 6/50\n",
      "37/37 [==============================] - 0s 7ms/step - loss: 0.0814 - accuracy: 0.9958 - val_loss: 0.6275 - val_accuracy: 0.7872\n",
      "Epoch 7/50\n",
      "37/37 [==============================] - 0s 7ms/step - loss: 0.0790 - accuracy: 0.9949 - val_loss: 0.5996 - val_accuracy: 0.7736\n",
      "Epoch 8/50\n",
      "37/37 [==============================] - 0s 7ms/step - loss: 0.0726 - accuracy: 0.9949 - val_loss: 0.5737 - val_accuracy: 0.7669\n",
      "Epoch 9/50\n",
      "37/37 [==============================] - 0s 7ms/step - loss: 0.0663 - accuracy: 0.9966 - val_loss: 0.5574 - val_accuracy: 0.7534\n",
      "Epoch 10/50\n",
      "37/37 [==============================] - 0s 7ms/step - loss: 0.0636 - accuracy: 0.9983 - val_loss: 0.5248 - val_accuracy: 0.7669\n",
      "Epoch 11/50\n",
      "37/37 [==============================] - 0s 7ms/step - loss: 0.0654 - accuracy: 0.9966 - val_loss: 0.5114 - val_accuracy: 0.7568\n",
      "Epoch 12/50\n",
      "37/37 [==============================] - 0s 8ms/step - loss: 0.0623 - accuracy: 0.9992 - val_loss: 0.4848 - val_accuracy: 0.7669\n",
      "Epoch 13/50\n",
      "37/37 [==============================] - 0s 7ms/step - loss: 0.0593 - accuracy: 0.9975 - val_loss: 0.4791 - val_accuracy: 0.7872\n",
      "Epoch 14/50\n",
      "37/37 [==============================] - 0s 7ms/step - loss: 0.0571 - accuracy: 0.9992 - val_loss: 0.4868 - val_accuracy: 0.7669\n",
      "Epoch 15/50\n",
      "37/37 [==============================] - 0s 7ms/step - loss: 0.0566 - accuracy: 0.9983 - val_loss: 0.4960 - val_accuracy: 0.7669\n",
      "Epoch 16/50\n",
      "37/37 [==============================] - 0s 7ms/step - loss: 0.0562 - accuracy: 0.9975 - val_loss: 0.5160 - val_accuracy: 0.7703\n",
      "Epoch 17/50\n",
      "37/37 [==============================] - 0s 7ms/step - loss: 0.0645 - accuracy: 0.9949 - val_loss: 0.5280 - val_accuracy: 0.7872\n",
      "Epoch 18/50\n",
      "37/37 [==============================] - 0s 7ms/step - loss: 0.0556 - accuracy: 0.9992 - val_loss: 0.5571 - val_accuracy: 0.7804\n",
      "Elapsed time: 7.10s\n"
     ]
    }
   ],
   "source": [
    "# Fit the neural network to the vectorized training data\n",
    "\n",
    "# Create Early Stopping\n",
    "# Watches val loss during training and if it does not improve for 5 consecutive epochs, it will stop the training early\n",
    "early_stop = keras.callbacks.EarlyStopping(\n",
    "    monitor='val_loss',\n",
    "    patience=5,\n",
    "    restore_best_weights=True\n",
    ")\n",
    "\n",
    "# Create Reduce LR On Plateau\n",
    "# Watches val loss and if it does not improve for 3 epochs, it will reduce the learning rate by a factor of 0.5\n",
    "reduce_lr = keras.callbacks.ReduceLROnPlateau(\n",
    "    monitor='val_loss',\n",
    "    factor=0.5,\n",
    "    patience=3,\n",
    "    min_lr=1e-6\n",
    ")\n",
    "\n",
    "# Start Time\n",
    "t0 = time.time() \n",
    "\n",
    "# Epochs\n",
    "num_epochs = 50 \n",
    "\n",
    "# Making the X_train into a array\n",
    "array_X_train_tfidf = X_train_tfidf.toarray()\n",
    "\n",
    "# Fit the model\n",
    "history = nn_model.fit(\n",
    "    array_X_train_tfidf,\n",
    "    y_train,\n",
    "    epochs=num_epochs,\n",
    "    #verbose=0\n",
    "    batch_size=32,\n",
    "    validation_split=0.2,\n",
    "    #callbacks=[ProgBarLoggerNEpochs(num_epochs, every_n=5)]\n",
    "    callbacks=[early_stop, reduce_lr])\n",
    "\n",
    "# Stop Time\n",
    "t1 = time.time() \n",
    "\n",
    "print('Elapsed time: %.2fs' % (t1-t0))\n"
   ]
  },
  {
   "cell_type": "code",
   "execution_count": 18,
   "metadata": {},
   "outputs": [
    {
     "data": {
      "text/plain": [
       "dict_keys(['loss', 'accuracy', 'val_loss', 'val_accuracy', 'lr'])"
      ]
     },
     "execution_count": 18,
     "metadata": {},
     "output_type": "execute_result"
    }
   ],
   "source": [
    "history.history.keys()"
   ]
  },
  {
   "cell_type": "code",
   "execution_count": 20,
   "metadata": {},
   "outputs": [
    {
     "data": {
      "image/png": "[encoded data removed]",
      "text/plain": [
       "<Figure size 432x288 with 1 Axes>"
      ]
     },
     "metadata": {
      "needs_background": "light"
     },
     "output_type": "display_data"
    }
   ],
   "source": [
    "# Visualize Model Performance\n",
    "# Plot training and validation loss\n",
    "plt.plot(history.history['val_accuracy'], label='Validation Accuracy')\n",
    "plt.plot(history.history['accuracy'], label='Training Accuracy')\n",
    "plt.xlabel('Epoch')\n",
    "plt.ylabel('Accuracy')\n",
    "plt.legend()\n",
    "plt.title('Training vs. Validation Accuracy')\n",
    "plt.show()\n"
   ]
  },
  {
   "cell_type": "code",
   "execution_count": 21,
   "metadata": {},
   "outputs": [
    {
     "name": "stdout",
     "output_type": "stream",
     "text": [
      "16/16 [==============================] - 0s 2ms/step - loss: 0.4724 - accuracy: 0.8077\n",
      "Loss:  0.47237956523895264 Accuracy:  0.807692289352417\n"
     ]
    }
   ],
   "source": [
    "# Evaulate the Performance of the Test Set\n",
    "loss, accuracy = nn_model.evaluate(X_test_tfidf.toarray(), y_test)\n",
    "\n",
    "print('Loss: ', str(loss) , 'Accuracy: ', str(accuracy))"
   ]
  },
  {
   "cell_type": "code",
   "execution_count": 22,
   "metadata": {},
   "outputs": [
    {
     "name": "stdout",
     "output_type": "stream",
     "text": [
      "Predictions for the first 20 examples:\n",
      "Predicted probability: 0.8006, Actual label: True\n",
      "Predicted probability: 0.8333, Actual label: True\n",
      "Predicted probability: 0.7743, Actual label: True\n",
      "Predicted probability: 0.9844, Actual label: True\n",
      "Predicted probability: 0.6292, Actual label: True\n",
      "Predicted probability: 0.5312, Actual label: True\n",
      "Predicted probability: 0.9714, Actual label: True\n"
     ]
    }
   ],
   "source": [
    "# Make Predictions on Test Sets\n",
    "probability_predictions = nn_model.predict(X_test_tfidf.toarray())\n",
    "\n",
    "array_y_test = y_test.to_numpy()\n",
    "print(\"Predictions for the first 20 examples:\")\n",
    "for i in range(20):\n",
    "    prob = probability_predictions[i][0]  # Extract the scalar probability\n",
    "    if prob >= 0.5:\n",
    "        print(f\"Predicted probability: {prob:.4f}, Actual label: {array_y_test[i]}\")"
   ]
  },
  {
   "cell_type": "code",
   "execution_count": 23,
   "metadata": {},
   "outputs": [
    {
     "name": "stdout",
     "output_type": "stream",
     "text": [
      "Review #1:\n",
      "\n",
      "This book was the first one I ever read about programming. It launched a whole new world of logical and complex thinking that I could never have understood without the magnificent touch that the author gives us. He applies very simple examples to explain very complex matters about programming instances adding humor and intelligence... what else would you want?\n",
      "It's simply excellent. 110% recommended.\n",
      "\n",
      "\n",
      "Prediction: Is this a good review? True\n",
      "\n",
      "Actual: Is this a good review? True\n",
      "\n"
     ]
    }
   ],
   "source": [
    "# Evalate Review #1\n",
    "print('Review #1:\\n')\n",
    "\n",
    "print(X_test.to_numpy()[23])\n",
    "\n",
    "goodReview = True if probability_predictions[23] >= .5 else False\n",
    "    \n",
    "print('\\nPrediction: Is this a good review? {}\\n'.format(goodReview))\n",
    "\n",
    "print('Actual: Is this a good review? {}\\n'.format(y_test.to_numpy()[23]))"
   ]
  },
  {
   "cell_type": "code",
   "execution_count": 24,
   "metadata": {},
   "outputs": [
    {
     "name": "stdout",
     "output_type": "stream",
     "text": [
      "Review #2:\n",
      "\n",
      "Beautiful, stunning absolutely gorgeous.\n",
      "\n",
      "A quick note to fellow Brits, this was ordered on October 22nd and arrived on November 1st and is much cheaper here than on amazon.co.uk or anywhere else in the UK!! I've ordered stuff domestically that has taken longer in the post!!\n",
      "\n",
      "\n",
      "Prediction: Is this a good review? True\n",
      "\n",
      "Actual: Is this a good review? True\n",
      "\n"
     ]
    }
   ],
   "source": [
    "# Evalate Review #2\n",
    "print('Review #2:\\n')\n",
    "\n",
    "print(X_test.to_numpy()[65])\n",
    "\n",
    "goodReview = True if probability_predictions[65] >= .5 else False\n",
    "\n",
    "print('\\nPrediction: Is this a good review? {}\\n'.format(goodReview)) \n",
    "\n",
    "print('Actual: Is this a good review? {}\\n'.format(y_test.to_numpy()[65]))"
   ]
  },
  {
   "cell_type": "code",
   "execution_count": 26,
   "metadata": {},
   "outputs": [
    {
     "name": "stdout",
     "output_type": "stream",
     "text": [
      "Review #3:\n",
      "\n",
      "This book serves the purpose of listing all available moves for the preset roster and shows all available storylines in the game.  That's about it.  No instruction on Create a Wrestler, or for that matter, create anything.  In fact, the previous two items I listed (moves and storylines) are pretty much the only content in this book.  I don't know; maybe I'm spoiled by Prima and the good job they do writing for PC games.  They just could have included a LOT more content, that's all.  You could have found any old FAQ in 30 seconds of search-engine poking\n",
      "\n",
      "\n",
      "Prediction: Is this a good review? False\n",
      "\n",
      "Actual: Is this a good review? False\n",
      "\n"
     ]
    }
   ],
   "source": [
    "# Evalate Review #3\n",
    "print('Review #3:\\n')\n",
    "\n",
    "print(X_test.to_numpy()[41])\n",
    "\n",
    "goodReview = True if probability_predictions[41] >= .5 else False\n",
    "    \n",
    "print('\\nPrediction: Is this a good review? {}\\n'.format(goodReview))\n",
    "\n",
    "print('Actual: Is this a good review? {}\\n'.format(y_test.to_numpy()[41]))"
   ]
  },
  {
   "cell_type": "code",
   "execution_count": 28,
   "metadata": {},
   "outputs": [
    {
     "name": "stdout",
     "output_type": "stream",
     "text": [
      "Review #4:\n",
      "\n",
      "I have read all of Sandra Brown books.\n",
      "I was disappointed in this one. I have\n",
      "almost all of her books in my bookcase,\n",
      "but when I finished this one I gave it\n",
      "away. \n",
      "\n",
      "\n",
      "Prediction: Is this a good review? False\n",
      "\n",
      "Actual: Is this a good review? False\n",
      "\n"
     ]
    }
   ],
   "source": [
    "# Evalate Review #4\n",
    "print('Review #4:\\n')\n",
    "print(X_test.to_numpy()[115])\n",
    "\n",
    "goodReview = True if probability_predictions[115] >= .5 else False\n",
    "    \n",
    "print('\\nPrediction: Is this a good review? {}\\n'.format(goodReview))\n",
    "\n",
    "print('Actual: Is this a good review? {}\\n'.format(y_test.to_numpy()[115]))"
   ]
  },
  {
   "cell_type": "markdown",
   "metadata": {},
   "source": [
    "# Analysis"
   ]
  },
  {
   "cell_type": "markdown",
   "metadata": {},
   "source": [
    "This version of the model appears to be the most balanced and generalizable. The test results showed 80% accuracy with a loss of 0.472, which indicates a reasonably good performance. I experimented with various hyperparameters and model adjustments, including adding regulazations, dropout layers, earlystopping, ReducedLROnPlateau, and removing a hidden layer.\n",
    "\n",
    "While these changes did not significantly improve accuracy, they did helped reduce the loss. Based on the results, I believe the model has no major overfitting issues and should generalize relatively well to new and unseen data. However, I do think there is still room for improvement, potentially by tuning the hyperparameters more precisely and using different models."
   ]
  },
  {
   "cell_type": "code",
   "execution_count": null,
   "metadata": {},
   "outputs": [],
   "source": []
  }
 ],
 "metadata": {
  "kernelspec": {
   "display_name": "Python 3 (ipykernel)",
   "language": "python",
   "name": "python3"
  },
  "language_info": {
   "codemirror_mode": {
    "name": "ipython",
    "version": 3
   },
   "file_extension": ".py",
   "mimetype": "text/x-python",
   "name": "python",
   "nbconvert_exporter": "python",
   "pygments_lexer": "ipython3",
   "version": "3.9.19"
  },
  "toc": {
   "base_numbering": 1,
   "nav_menu": {},
   "number_sections": false,
   "sideBar": true,
   "skip_h1_title": false,
   "title_cell": "Table of Contents",
   "title_sidebar": "Contents",
   "toc_cell": false,
   "toc_position": {},
   "toc_section_display": true,
   "toc_window_display": false
  },
  "varInspector": {
   "cols": {
    "lenName": 16,
    "lenType": 16,
    "lenVar": 40
   },
   "kernels_config": {
    "python": {
     "delete_cmd_postfix": "",
     "delete_cmd_prefix": "del ",
     "library": "var_list.py",
     "varRefreshCmd": "print(var_dic_list())"
    },
    "r": {
     "delete_cmd_postfix": ") ",
     "delete_cmd_prefix": "rm(",
     "library": "var_list.r",
     "varRefreshCmd": "cat(var_dic_list()) "
    }
   },
   "types_to_exclude": [
    "module",
    "function",
    "builtin_function_or_method",
    "instance",
    "_Feature"
   ],
   "window_display": false
  }
 },
 "nbformat": 4,
 "nbformat_minor": 4
}
